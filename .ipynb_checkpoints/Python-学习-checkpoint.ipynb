{
 "cells": [
  {
   "cell_type": "code",
   "execution_count": 5,
   "metadata": {},
   "outputs": [],
   "source": [
    "import sys\n",
    "reload(sys)\n",
    "sys.setdefaultencoding('utf8')\n",
    "import pandas as pd\n",
    "df1=pd.read_excel(r'/Users/apache/Downloads/test1.xlsx')\n",
    "df2=pd.read_excel(r'/Users/apache/Downloads/test2.xlsx')\n",
    "df=pd.merge(df1,df2,on='no',how='left')\n",
    "df.to_excel(r'/Users/apache/Downloads/test1.xlsx')\n",
    "# Excel 合并"
   ]
  },
  {
   "cell_type": "code",
   "execution_count": 6,
   "metadata": {},
   "outputs": [
    {
     "data": {
      "text/html": [
       "<div>\n",
       "<style scoped>\n",
       "    .dataframe tbody tr th:only-of-type {\n",
       "        vertical-align: middle;\n",
       "    }\n",
       "\n",
       "    .dataframe tbody tr th {\n",
       "        vertical-align: top;\n",
       "    }\n",
       "\n",
       "    .dataframe thead th {\n",
       "        text-align: right;\n",
       "    }\n",
       "</style>\n",
       "<table border=\"1\" class=\"dataframe\">\n",
       "  <thead>\n",
       "    <tr style=\"text-align: right;\">\n",
       "      <th></th>\n",
       "      <th>no</th>\n",
       "      <th>数量_x</th>\n",
       "      <th>姓名_x</th>\n",
       "      <th>地址_x</th>\n",
       "      <th>数量_x.1</th>\n",
       "      <th>姓名_x.1</th>\n",
       "      <th>地址_x.1</th>\n",
       "      <th>数量_y</th>\n",
       "      <th>姓名_y</th>\n",
       "      <th>地址_y</th>\n",
       "      <th>数量</th>\n",
       "      <th>姓名</th>\n",
       "      <th>地址</th>\n",
       "    </tr>\n",
       "  </thead>\n",
       "  <tbody>\n",
       "    <tr>\n",
       "      <th>0</th>\n",
       "      <td>1</td>\n",
       "      <td>342</td>\n",
       "      <td>张三</td>\n",
       "      <td>西湖区</td>\n",
       "      <td>65.0</td>\n",
       "      <td>理解</td>\n",
       "      <td>荆山</td>\n",
       "      <td>65.0</td>\n",
       "      <td>理解</td>\n",
       "      <td>荆山</td>\n",
       "      <td>65.0</td>\n",
       "      <td>理解</td>\n",
       "      <td>荆山</td>\n",
       "    </tr>\n",
       "    <tr>\n",
       "      <th>1</th>\n",
       "      <td>2</td>\n",
       "      <td>4234</td>\n",
       "      <td>李四</td>\n",
       "      <td>天都成</td>\n",
       "      <td>67.0</td>\n",
       "      <td>信任</td>\n",
       "      <td>黄山</td>\n",
       "      <td>67.0</td>\n",
       "      <td>信任</td>\n",
       "      <td>黄山</td>\n",
       "      <td>67.0</td>\n",
       "      <td>信任</td>\n",
       "      <td>黄山</td>\n",
       "    </tr>\n",
       "    <tr>\n",
       "      <th>2</th>\n",
       "      <td>3</td>\n",
       "      <td>4224</td>\n",
       "      <td>垃圾</td>\n",
       "      <td>法兰公园</td>\n",
       "      <td>NaN</td>\n",
       "      <td>NaN</td>\n",
       "      <td>NaN</td>\n",
       "      <td>NaN</td>\n",
       "      <td>NaN</td>\n",
       "      <td>NaN</td>\n",
       "      <td>NaN</td>\n",
       "      <td>NaN</td>\n",
       "      <td>NaN</td>\n",
       "    </tr>\n",
       "  </tbody>\n",
       "</table>\n",
       "</div>"
      ],
      "text/plain": [
       "   no  数量_x 姓名_x  地址_x  数量_x.1 姓名_x.1 地址_x.1  数量_y 姓名_y 地址_y    数量   姓名   地址\n",
       "0   1   342   张三   西湖区    65.0     理解     荆山  65.0   理解   荆山  65.0   理解   荆山\n",
       "1   2  4234   李四   天都成    67.0     信任     黄山  67.0   信任   黄山  67.0   信任   黄山\n",
       "2   3  4224   垃圾  法兰公园     NaN    NaN    NaN   NaN  NaN  NaN   NaN  NaN  NaN"
      ]
     },
     "execution_count": 6,
     "metadata": {},
     "output_type": "execute_result"
    }
   ],
   "source": [
    "df.head()\n",
    "# Excel读取并显示excel"
   ]
  },
  {
   "cell_type": "code",
   "execution_count": null,
   "metadata": {},
   "outputs": [],
   "source": []
  }
 ],
 "metadata": {
  "kernelspec": {
   "display_name": "Python 2",
   "language": "python",
   "name": "python2"
  },
  "language_info": {
   "codemirror_mode": {
    "name": "ipython",
    "version": 2
   },
   "file_extension": ".py",
   "mimetype": "text/x-python",
   "name": "python",
   "nbconvert_exporter": "python",
   "pygments_lexer": "ipython2",
   "version": "2.7.15"
  }
 },
 "nbformat": 4,
 "nbformat_minor": 2
}
