{
 "cells": [
  {
   "cell_type": "code",
   "execution_count": 1,
   "metadata": {
    "collapsed": true
   },
   "outputs": [
    {
     "name": "stderr",
     "output_type": "stream",
     "text": [
      "/Users/apache/PycharmProjects/shushan-CF/venv/lib/python3.7/site-packages/ipykernel_launcher.py:3: DeprecationWarning: Using or importing the ABCs from 'collections' instead of from 'collections.abc' is deprecated, and in 3.8 it will stop working\n",
      "  This is separate from the ipykernel package so we can avoid doing imports until\n"
     ]
    }
   ],
   "source": [
    "# ----数据库操作----\n",
    "import pymysql\n",
    "import pymssql\n",
    "import pandas as pd\n",
    "import psycopg2\n",
    "import os\n",
    "import time"
   ]
  },
  {
   "cell_type": "code",
   "execution_count": 2,
   "metadata": {},
   "outputs": [],
   "source": [
    "# redshift 数据库连接\n",
    "con1 = psycopg2.connect(\n",
    "        user='operation',\n",
    "        password='Operation123',\n",
    "        host='jiayundatapro.cls0csjdlwvj.us-west-2.redshift.amazonaws.com',\n",
    "        port=5439,\n",
    "        database='jiayundata')"
   ]
  },
  {
   "cell_type": "code",
   "execution_count": 3,
   "metadata": {},
   "outputs": [],
   "source": [
    "# redshift 取数\n",
    "sql1=('''\n",
    "    select\n",
    "    biz_date\n",
    "    ,ic.front_cate_one\n",
    "    ,ic.front_cate_two\n",
    "    ,campaign_type\n",
    "    ,cn.id\n",
    "    ,cn.category_english_name\n",
    "    ,cn.category_chinese_name\n",
    "    ,sum(spend) as cost\n",
    "    ,sum(mobile_app_install) as installs\n",
    "    ,sum(fb_mobile_purchase+fb_pixel_purchase) as purchase\n",
    "    ,sum(fb_mobile_purchase_value+fb_pixel_purchase_value) as purchaseValiue\n",
    "    ,sum(impressions) as impression\n",
    "    ,sum(clicks_all) as clicks \n",
    "    ,country_code as country FROM\n",
    "(select * from marketing.facebook_dpa_elimination where biz_date>='2019-10-11' and biz_date<='2019-10-24') t1\n",
    "       left join odoo_own.product_template pro on t1.product_id = pro.product_no\n",
    "       left join odoo_own_public.category_new_product_template_rel re on re.product_template_id = pro.id\n",
    "       left join odoo_own_public.category_new cn on cn.id = re.category_new_id \n",
    "       LEFT JOIN jiayundw_dim.product_basic_info_df as ic ON ic.item_no = t1.product_id\n",
    "group by \n",
    "     biz_date\n",
    "    ,ic.front_cate_one\n",
    "    ,ic.front_cate_two\n",
    "    ,campaign_type\n",
    "    ,cn.id\n",
    "    ,cn.category_english_name\n",
    "    ,cn.category_chinese_name\n",
    "    ,country\n",
    "order by biz_date,ic.front_cate_one,ic.front_cate_two,cn.id,campaign_type\n",
    " ''')"
   ]
  },
  {
   "cell_type": "code",
   "execution_count": 7,
   "metadata": {
    "collapsed": true
   },
   "outputs": [
    {
     "name": "stdout",
     "output_type": "stream",
     "text": [
      "     biz_date front_cate_one front_cate_two campaign_type          id  \\\n",
      "0  2019-10-11    Automobiles      Car Cares       catalog  60407113.0   \n",
      "1  2019-10-11    Automobiles      Car Cares       catalog  60407113.0   \n",
      "2  2019-10-11    Automobiles      Car Cares       install  60407113.0   \n",
      "3  2019-10-11    Automobiles      Car Cares       catalog  60407115.0   \n",
      "4  2019-10-11    Automobiles      Car Cares       catalog  60407119.0   \n",
      "5  2019-10-11    Automobiles      Car Cares       catalog  60407119.0   \n",
      "6  2019-10-11    Automobiles      Car Cares       catalog  60407119.0   \n",
      "7  2019-10-11    Automobiles      Car Cares       catalog  60407119.0   \n",
      "8  2019-10-11    Automobiles      Car Cares       install  60407119.0   \n",
      "9  2019-10-11    Automobiles      Car Cares       install  60407119.0   \n",
      "\n",
      "  category_english_name category_chinese_name  cost  installs  purchase  \\\n",
      "0        Polish & Waxes                    车蜡  0.02         0         0   \n",
      "1        Polish & Waxes                    车蜡  0.06         0         0   \n",
      "2        Polish & Waxes                    车蜡  0.00         1         0   \n",
      "3          Car Shampoos               清洗剂,养护剂  0.01         0         0   \n",
      "4  Maintenance Products            其它汽车保养,添加剂  0.21         0         0   \n",
      "5  Maintenance Products            其它汽车保养,添加剂  0.03         0         0   \n",
      "6  Maintenance Products            其它汽车保养,添加剂  0.00         0         0   \n",
      "7  Maintenance Products            其它汽车保养,添加剂  0.00         0         0   \n",
      "8  Maintenance Products            其它汽车保养,添加剂  0.00         0         0   \n",
      "9  Maintenance Products            其它汽车保养,添加剂  0.54         2         0   \n",
      "\n",
      "   purchasevaliue  impression  clicks country  \n",
      "0             0.0          33       0      IN  \n",
      "1             0.0           1       0      SA  \n",
      "2             0.0          11       1      IN  \n",
      "3             0.0           6       0      IN  \n",
      "4             0.0         201       8      IN  \n",
      "5             0.0           2       0      AE  \n",
      "6             0.0           1       0      SA  \n",
      "7             0.0           1       0      BH  \n",
      "8             0.0           3       0      BH  \n",
      "9             0.0         856      24      IN  \n"
     ]
    }
   ],
   "source": [
    "data1 = pd.read_sql(sql1,con1)\n",
    "print(data1.head(10))"
   ]
  },
  {
   "cell_type": "code",
   "execution_count": null,
   "metadata": {},
   "outputs": [],
   "source": [
    "# sql server 数据库连接"
   ]
  }
 ],
 "metadata": {
  "kernelspec": {
   "display_name": "Python 3",
   "language": "python",
   "name": "python3"
  },
  "language_info": {
   "codemirror_mode": {
    "name": "ipython",
    "version": 3
   },
   "file_extension": ".py",
   "mimetype": "text/x-python",
   "name": "python",
   "nbconvert_exporter": "python",
   "pygments_lexer": "ipython3",
   "version": "3.7.2"
  }
 },
 "nbformat": 4,
 "nbformat_minor": 2
}
